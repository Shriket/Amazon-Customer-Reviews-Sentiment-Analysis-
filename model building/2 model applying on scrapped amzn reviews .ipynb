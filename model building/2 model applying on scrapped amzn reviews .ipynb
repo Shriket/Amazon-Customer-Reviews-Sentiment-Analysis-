{
 "cells": [
  {
   "cell_type": "code",
   "execution_count": 2,
   "id": "411e2ca6",
   "metadata": {},
   "outputs": [],
   "source": [
    "import pickle\n",
    "from sklearn.feature_extraction.text import TfidfVectorizer\n",
    "from sklearn.ensemble import RandomForestClassifier\n",
    "from sklearn.model_selection import train_test_split\n",
    "from sklearn.metrics import accuracy_score\n",
    "from nltk.corpus import stopwords\n",
    "from nltk.tokenize import word_tokenize\n",
    "from nltk.stem import WordNetLemmatizer\n",
    "from sklearn.preprocessing import LabelEncoder\n"
   ]
  },
  {
   "cell_type": "code",
   "execution_count": 4,
   "id": "31e3f925",
   "metadata": {},
   "outputs": [],
   "source": [
    "import re"
   ]
  },
  {
   "cell_type": "code",
   "execution_count": 6,
   "id": "f97bc0dd",
   "metadata": {},
   "outputs": [],
   "source": [
    "with open('multinomial_nb_model.pkl', 'rb') as file:\n",
    "    loaded_model = pickle.load(file)"
   ]
  },
  {
   "cell_type": "code",
   "execution_count": 7,
   "id": "95ecec9b",
   "metadata": {},
   "outputs": [],
   "source": [
    "import pandas as pd"
   ]
  },
  {
   "cell_type": "code",
   "execution_count": 8,
   "id": "f8f75070",
   "metadata": {},
   "outputs": [],
   "source": [
    "data=pd.read_csv('reviews.csv')"
   ]
  },
  {
   "cell_type": "code",
   "execution_count": 9,
   "id": "f0a99d8f",
   "metadata": {},
   "outputs": [],
   "source": [
    "stop_words = set(stopwords.words('english'))\n",
    "lemmatizer = WordNetLemmatizer()\n",
    "\n",
    "def preprocess_text(text):\n",
    "    # Remove non-alphanumeric characters and convert to lowercase\n",
    "    text = re.sub(r'[^a-zA-Z0-9\\s]', '', text.lower())\n",
    "    # Tokenize text\n",
    "    tokens = word_tokenize(text)\n",
    "    # Remove stopwords and lemmatize\n",
    "    tokens = [lemmatizer.lemmatize(word) for word in tokens if word not in stop_words]\n",
    "    return \" \".join(tokens)"
   ]
  },
  {
   "cell_type": "code",
   "execution_count": 10,
   "id": "93a590d9",
   "metadata": {},
   "outputs": [],
   "source": [
    "with open('tfidf_vectorizer.pkl', 'rb') as file:\n",
    "    tfidf_vectorizer = pickle.load(file)"
   ]
  },
  {
   "cell_type": "code",
   "execution_count": 11,
   "id": "3c2d835e",
   "metadata": {},
   "outputs": [],
   "source": [
    "new_input_text = \"very good quality\"\n",
    "clean_new_input_text = preprocess_text(new_input_text)"
   ]
  },
  {
   "cell_type": "code",
   "execution_count": 12,
   "id": "f1504152",
   "metadata": {},
   "outputs": [],
   "source": [
    "new_input_tfidf = tfidf_vectorizer.transform([clean_new_input_text])"
   ]
  },
  {
   "cell_type": "code",
   "execution_count": 15,
   "id": "de68e6bf",
   "metadata": {},
   "outputs": [],
   "source": [
    "with open('multinomial_nb_model.pkl', 'rb') as file:\n",
    "    loaded_model = pickle.load(file)"
   ]
  },
  {
   "cell_type": "code",
   "execution_count": 16,
   "id": "630491ca",
   "metadata": {},
   "outputs": [
    {
     "name": "stdout",
     "output_type": "stream",
     "text": [
      "Predicted sentiment: [1]\n"
     ]
    }
   ],
   "source": [
    "predicted_sentiment = loaded_model.predict(new_input_tfidf)\n",
    "\n",
    "print(\"Predicted sentiment:\", predicted_sentiment)"
   ]
  },
  {
   "cell_type": "code",
   "execution_count": 17,
   "id": "175d69b4",
   "metadata": {},
   "outputs": [
    {
     "data": {
      "text/plain": [
       "Index(['Name', 'Stars', 'Title', 'Date', 'Description'], dtype='object')"
      ]
     },
     "execution_count": 17,
     "metadata": {},
     "output_type": "execute_result"
    }
   ],
   "source": [
    "data.columns"
   ]
  },
  {
   "cell_type": "code",
   "execution_count": 18,
   "id": "5edd2a88",
   "metadata": {},
   "outputs": [],
   "source": [
    "l=[]\n",
    "for i in range(len(data)):\n",
    "    new_input_text=data['Description'].loc[i]\n",
    "    clean_new_input_text = preprocess_text(new_input_text)\n",
    "    new_input_tfidf = tfidf_vectorizer.transform([clean_new_input_text])\n",
    "    predicted_sentiment = loaded_model.predict(new_input_tfidf)\n",
    "    l.append(predicted_sentiment[0])"
   ]
  },
  {
   "cell_type": "code",
   "execution_count": 19,
   "id": "86bbe878",
   "metadata": {},
   "outputs": [
    {
     "data": {
      "text/plain": [
       "[1, 0, 1, 1, 0, 1, 0, 0, 1, 0, 1, 1, 0, 1, 0, 0]"
      ]
     },
     "execution_count": 19,
     "metadata": {},
     "output_type": "execute_result"
    }
   ],
   "source": [
    "l"
   ]
  },
  {
   "cell_type": "code",
   "execution_count": 20,
   "id": "58b3eb5f",
   "metadata": {},
   "outputs": [],
   "source": [
    "new_df=data"
   ]
  },
  {
   "cell_type": "code",
   "execution_count": 21,
   "id": "b1488a9b",
   "metadata": {},
   "outputs": [],
   "source": [
    "new_df['sentiment']=l"
   ]
  },
  {
   "cell_type": "code",
   "execution_count": 22,
   "id": "0a4c8c95",
   "metadata": {},
   "outputs": [
    {
     "data": {
      "text/html": [
       "<div>\n",
       "<style scoped>\n",
       "    .dataframe tbody tr th:only-of-type {\n",
       "        vertical-align: middle;\n",
       "    }\n",
       "\n",
       "    .dataframe tbody tr th {\n",
       "        vertical-align: top;\n",
       "    }\n",
       "\n",
       "    .dataframe thead th {\n",
       "        text-align: right;\n",
       "    }\n",
       "</style>\n",
       "<table border=\"1\" class=\"dataframe\">\n",
       "  <thead>\n",
       "    <tr style=\"text-align: right;\">\n",
       "      <th></th>\n",
       "      <th>Name</th>\n",
       "      <th>Stars</th>\n",
       "      <th>Title</th>\n",
       "      <th>Date</th>\n",
       "      <th>Description</th>\n",
       "      <th>sentiment</th>\n",
       "    </tr>\n",
       "  </thead>\n",
       "  <tbody>\n",
       "    <tr>\n",
       "      <th>0</th>\n",
       "      <td>Amazon Customer</td>\n",
       "      <td>5.0</td>\n",
       "      <td>5.0 out of 5 stars\\nWhite Jeans</td>\n",
       "      <td>NaN</td>\n",
       "      <td>Quality, material, fit, comfort, elasticity al...</td>\n",
       "      <td>1</td>\n",
       "    </tr>\n",
       "    <tr>\n",
       "      <th>1</th>\n",
       "      <td>Amazon Customer</td>\n",
       "      <td>4.0</td>\n",
       "      <td>4.0 out of 5 stars\\nExcellent product</td>\n",
       "      <td>NaN</td>\n",
       "      <td>Second time purchase same items. Quality need ...</td>\n",
       "      <td>0</td>\n",
       "    </tr>\n",
       "    <tr>\n",
       "      <th>2</th>\n",
       "      <td>Value for money</td>\n",
       "      <td>4.0</td>\n",
       "      <td>4.0 out of 5 stars\\nQuality is good but length...</td>\n",
       "      <td>NaN</td>\n",
       "      <td>Good quality material.Waist size is matching b...</td>\n",
       "      <td>1</td>\n",
       "    </tr>\n",
       "    <tr>\n",
       "      <th>3</th>\n",
       "      <td>Amal PJ</td>\n",
       "      <td>3.0</td>\n",
       "      <td>3.0 out of 5 stars\\nDoubts about material quality</td>\n",
       "      <td>NaN</td>\n",
       "      <td>Pocket was torn. I liked it but quality not so...</td>\n",
       "      <td>1</td>\n",
       "    </tr>\n",
       "    <tr>\n",
       "      <th>4</th>\n",
       "      <td>Debabrata Mishra</td>\n",
       "      <td>5.0</td>\n",
       "      <td>5.0 out of 5 stars\\nValue for money</td>\n",
       "      <td>NaN</td>\n",
       "      <td>Good product and  fittings. Overall value for ...</td>\n",
       "      <td>0</td>\n",
       "    </tr>\n",
       "    <tr>\n",
       "      <th>5</th>\n",
       "      <td>Atul Pandit</td>\n",
       "      <td>5.0</td>\n",
       "      <td>5.0 out of 5 stars\\nExcellent Product</td>\n",
       "      <td>NaN</td>\n",
       "      <td>The coform of the jeans is awesome in relaxed ...</td>\n",
       "      <td>1</td>\n",
       "    </tr>\n",
       "    <tr>\n",
       "      <th>6</th>\n",
       "      <td>Chandana Banerjee</td>\n",
       "      <td>2.0</td>\n",
       "      <td>2.0 out of 5 stars\\nVery Very Very Cheap Quali...</td>\n",
       "      <td>NaN</td>\n",
       "      <td>This jeans is coloured with very low quality d...</td>\n",
       "      <td>0</td>\n",
       "    </tr>\n",
       "    <tr>\n",
       "      <th>7</th>\n",
       "      <td>ശ്രീജിത്ത്</td>\n",
       "      <td>3.0</td>\n",
       "      <td>3.0 out of 5 stars\\n3star given</td>\n",
       "      <td>NaN</td>\n",
       "      <td>Fit and quality is ok but length is too short👎...</td>\n",
       "      <td>0</td>\n",
       "    </tr>\n",
       "    <tr>\n",
       "      <th>8</th>\n",
       "      <td>Amazon Customer</td>\n",
       "      <td>5.0</td>\n",
       "      <td>5.0 out of 5 stars\\nWhite Jeans</td>\n",
       "      <td>NaN</td>\n",
       "      <td>Quality, material, fit, comfort, elasticity al...</td>\n",
       "      <td>1</td>\n",
       "    </tr>\n",
       "    <tr>\n",
       "      <th>9</th>\n",
       "      <td>Amazon Customer</td>\n",
       "      <td>4.0</td>\n",
       "      <td>4.0 out of 5 stars\\nExcellent product</td>\n",
       "      <td>NaN</td>\n",
       "      <td>Second time purchase same items. Quality need ...</td>\n",
       "      <td>0</td>\n",
       "    </tr>\n",
       "    <tr>\n",
       "      <th>10</th>\n",
       "      <td>Value for money</td>\n",
       "      <td>4.0</td>\n",
       "      <td>4.0 out of 5 stars\\nQuality is good but length...</td>\n",
       "      <td>NaN</td>\n",
       "      <td>Good quality material.Waist size is matching b...</td>\n",
       "      <td>1</td>\n",
       "    </tr>\n",
       "    <tr>\n",
       "      <th>11</th>\n",
       "      <td>Amal PJ</td>\n",
       "      <td>3.0</td>\n",
       "      <td>3.0 out of 5 stars\\nDoubts about material quality</td>\n",
       "      <td>NaN</td>\n",
       "      <td>Pocket was torn. I liked it but quality not so...</td>\n",
       "      <td>1</td>\n",
       "    </tr>\n",
       "    <tr>\n",
       "      <th>12</th>\n",
       "      <td>Debabrata Mishra</td>\n",
       "      <td>5.0</td>\n",
       "      <td>5.0 out of 5 stars\\nValue for money</td>\n",
       "      <td>NaN</td>\n",
       "      <td>Good product and  fittings. Overall value for ...</td>\n",
       "      <td>0</td>\n",
       "    </tr>\n",
       "    <tr>\n",
       "      <th>13</th>\n",
       "      <td>Atul Pandit</td>\n",
       "      <td>5.0</td>\n",
       "      <td>5.0 out of 5 stars\\nExcellent Product</td>\n",
       "      <td>NaN</td>\n",
       "      <td>The coform of the jeans is awesome in relaxed ...</td>\n",
       "      <td>1</td>\n",
       "    </tr>\n",
       "    <tr>\n",
       "      <th>14</th>\n",
       "      <td>Chandana Banerjee</td>\n",
       "      <td>2.0</td>\n",
       "      <td>2.0 out of 5 stars\\nVery Very Very Cheap Quali...</td>\n",
       "      <td>NaN</td>\n",
       "      <td>This jeans is coloured with very low quality d...</td>\n",
       "      <td>0</td>\n",
       "    </tr>\n",
       "    <tr>\n",
       "      <th>15</th>\n",
       "      <td>ശ്രീജിത്ത്</td>\n",
       "      <td>3.0</td>\n",
       "      <td>3.0 out of 5 stars\\n3star given</td>\n",
       "      <td>NaN</td>\n",
       "      <td>Fit and quality is ok but length is too short👎...</td>\n",
       "      <td>0</td>\n",
       "    </tr>\n",
       "  </tbody>\n",
       "</table>\n",
       "</div>"
      ],
      "text/plain": [
       "                 Name  Stars  \\\n",
       "0     Amazon Customer    5.0   \n",
       "1     Amazon Customer    4.0   \n",
       "2     Value for money    4.0   \n",
       "3             Amal PJ    3.0   \n",
       "4    Debabrata Mishra    5.0   \n",
       "5         Atul Pandit    5.0   \n",
       "6   Chandana Banerjee    2.0   \n",
       "7          ശ്രീജിത്ത്    3.0   \n",
       "8     Amazon Customer    5.0   \n",
       "9     Amazon Customer    4.0   \n",
       "10    Value for money    4.0   \n",
       "11            Amal PJ    3.0   \n",
       "12   Debabrata Mishra    5.0   \n",
       "13        Atul Pandit    5.0   \n",
       "14  Chandana Banerjee    2.0   \n",
       "15         ശ്രീജിത്ത്    3.0   \n",
       "\n",
       "                                                Title  Date  \\\n",
       "0                     5.0 out of 5 stars\\nWhite Jeans   NaN   \n",
       "1               4.0 out of 5 stars\\nExcellent product   NaN   \n",
       "2   4.0 out of 5 stars\\nQuality is good but length...   NaN   \n",
       "3   3.0 out of 5 stars\\nDoubts about material quality   NaN   \n",
       "4                 5.0 out of 5 stars\\nValue for money   NaN   \n",
       "5               5.0 out of 5 stars\\nExcellent Product   NaN   \n",
       "6   2.0 out of 5 stars\\nVery Very Very Cheap Quali...   NaN   \n",
       "7                     3.0 out of 5 stars\\n3star given   NaN   \n",
       "8                     5.0 out of 5 stars\\nWhite Jeans   NaN   \n",
       "9               4.0 out of 5 stars\\nExcellent product   NaN   \n",
       "10  4.0 out of 5 stars\\nQuality is good but length...   NaN   \n",
       "11  3.0 out of 5 stars\\nDoubts about material quality   NaN   \n",
       "12                5.0 out of 5 stars\\nValue for money   NaN   \n",
       "13              5.0 out of 5 stars\\nExcellent Product   NaN   \n",
       "14  2.0 out of 5 stars\\nVery Very Very Cheap Quali...   NaN   \n",
       "15                    3.0 out of 5 stars\\n3star given   NaN   \n",
       "\n",
       "                                          Description  sentiment  \n",
       "0   Quality, material, fit, comfort, elasticity al...          1  \n",
       "1   Second time purchase same items. Quality need ...          0  \n",
       "2   Good quality material.Waist size is matching b...          1  \n",
       "3   Pocket was torn. I liked it but quality not so...          1  \n",
       "4   Good product and  fittings. Overall value for ...          0  \n",
       "5   The coform of the jeans is awesome in relaxed ...          1  \n",
       "6   This jeans is coloured with very low quality d...          0  \n",
       "7   Fit and quality is ok but length is too short👎...          0  \n",
       "8   Quality, material, fit, comfort, elasticity al...          1  \n",
       "9   Second time purchase same items. Quality need ...          0  \n",
       "10  Good quality material.Waist size is matching b...          1  \n",
       "11  Pocket was torn. I liked it but quality not so...          1  \n",
       "12  Good product and  fittings. Overall value for ...          0  \n",
       "13  The coform of the jeans is awesome in relaxed ...          1  \n",
       "14  This jeans is coloured with very low quality d...          0  \n",
       "15  Fit and quality is ok but length is too short👎...          0  "
      ]
     },
     "execution_count": 22,
     "metadata": {},
     "output_type": "execute_result"
    }
   ],
   "source": [
    "new_df"
   ]
  },
  {
   "cell_type": "code",
   "execution_count": null,
   "id": "e2fb2017",
   "metadata": {},
   "outputs": [],
   "source": []
  }
 ],
 "metadata": {
  "kernelspec": {
   "display_name": "Python 3 (ipykernel)",
   "language": "python",
   "name": "python3"
  },
  "language_info": {
   "codemirror_mode": {
    "name": "ipython",
    "version": 3
   },
   "file_extension": ".py",
   "mimetype": "text/x-python",
   "name": "python",
   "nbconvert_exporter": "python",
   "pygments_lexer": "ipython3",
   "version": "3.11.5"
  }
 },
 "nbformat": 4,
 "nbformat_minor": 5
}
